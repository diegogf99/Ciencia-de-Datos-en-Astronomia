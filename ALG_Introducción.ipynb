{
  "nbformat": 4,
  "nbformat_minor": 0,
  "metadata": {
    "kernelspec": {
      "display_name": "Python 3",
      "language": "python",
      "name": "python3"
    },
    "language_info": {
      "codemirror_mode": {
        "name": "ipython",
        "version": 3
      },
      "file_extension": ".py",
      "mimetype": "text/x-python",
      "name": "python",
      "nbconvert_exporter": "python",
      "pygments_lexer": "ipython3",
      "version": "3.7.1"
    },
    "colab": {
      "name": "Copy of 01 Introducción.ipynb",
      "provenance": [],
      "include_colab_link": true
    }
  },
  "cells": [
    {
      "cell_type": "markdown",
      "metadata": {
        "id": "view-in-github",
        "colab_type": "text"
      },
      "source": [
        "<a href=\"https://colab.research.google.com/github/diegogf99/Ciencia-de-Datos-en-Astronomia/blob/master/ALG_Introducci%C3%B3n.ipynb\" target=\"_parent\"><img src=\"https://colab.research.google.com/assets/colab-badge.svg\" alt=\"Open In Colab\"/></a>"
      ]
    },
    {
      "cell_type": "markdown",
      "metadata": {
        "id": "A42LApctRJY8",
        "colab_type": "text"
      },
      "source": [
        "# 1 Introducción\n",
        "El objetivo de este capítulo es ver los conceptos básicos de programación que luego utilizaremos a lo largo de todo el curso. Esto incluye ver tanto los datos que vamos a manejar, como las instrucciones que operan sobre ellos, así como las técnicas básicas de programación.\n",
        "Para la implementación de los algoritmos que vamos a ver utilizaremos el lenguaje Python, sin perjuicio de que los conceptos que veremos son independientes del lenguaje específico utilizado.\n",
        "\n",
        "En primer lugar, veremos algunos de los tipos de datos básicos de Python.\n",
        "Las variables cambian de tipo dinámicamente según el tipo del valor que tengan en un instante dado."
      ]
    },
    {
      "cell_type": "markdown",
      "metadata": {
        "id": "tUERLowoRJY_",
        "colab_type": "text"
      },
      "source": [
        "## Datos numéricos\n",
        "Python distingue entre números enteros (int) y números de punto flotante (float)."
      ]
    },
    {
      "cell_type": "code",
      "metadata": {
        "id": "jDEfBoTrRJZA",
        "colab_type": "code",
        "outputId": "9ce0efd6-341b-4b80-cebf-7c048e1735b6",
        "colab": {}
      },
      "source": [
        "n=5 # int\n",
        "print(n, type(n))\n",
        "x=3.14 # float\n",
        "print(x, type(x))"
      ],
      "execution_count": 0,
      "outputs": [
        {
          "output_type": "stream",
          "text": [
            "5 <class 'int'>\n",
            "3.14 <class 'float'>\n"
          ],
          "name": "stdout"
        }
      ]
    },
    {
      "cell_type": "markdown",
      "metadata": {
        "id": "ywmQpULVRJZE",
        "colab_type": "text"
      },
      "source": [
        "Sobre estos datos se pueden ejecutar las operaciones aritméticas habituales."
      ]
    },
    {
      "cell_type": "code",
      "metadata": {
        "id": "pNmR5yj3RJZE",
        "colab_type": "code",
        "outputId": "309f7182-dd7b-49da-fd77-54b39e1d074f",
        "colab": {}
      },
      "source": [
        "print(n+1)\n",
        "print(n/2) # noten la diferencia con Python 2.7\n",
        "print(n//2) # división entera\n",
        "print(x**2)"
      ],
      "execution_count": 0,
      "outputs": [
        {
          "output_type": "stream",
          "text": [
            "6\n",
            "2.5\n",
            "2\n",
            "9.8596\n"
          ],
          "name": "stdout"
        }
      ]
    },
    {
      "cell_type": "markdown",
      "metadata": {
        "id": "puxV5uBERJZG",
        "colab_type": "text"
      },
      "source": [
        "## Datos lógicos\n",
        "Los valores de verdad son `True` y `False`. Las operaciones lógicas se indican con palabras en lugar de símbolos."
      ]
    },
    {
      "cell_type": "code",
      "metadata": {
        "id": "SK02bZbLRJZH",
        "colab_type": "code",
        "outputId": "01023f8a-918e-4e28-cdd9-5f2e383d7d2a",
        "colab": {}
      },
      "source": [
        "t=True\n",
        "f=False\n",
        "print(t and f)\n",
        "print(t and not f)\n",
        "print(n>0)"
      ],
      "execution_count": 0,
      "outputs": [
        {
          "output_type": "stream",
          "text": [
            "False\n",
            "True\n",
            "True\n"
          ],
          "name": "stdout"
        }
      ]
    },
    {
      "cell_type": "markdown",
      "metadata": {
        "id": "zukxdOizRJZJ",
        "colab_type": "text"
      },
      "source": [
        "## Strings\n",
        "Los strings se escriben entre comillas simples o dobles, y existen muchas operaciones definidas para ellos."
      ]
    },
    {
      "cell_type": "code",
      "metadata": {
        "id": "TNFpgMfMRJZK",
        "colab_type": "code",
        "outputId": "a881c18a-310d-478f-d1a4-b5a3a22642e7",
        "colab": {}
      },
      "source": [
        "h=\"Hola\"\n",
        "print(h)\n",
        "print(len(h))\n",
        "m='mundo'\n",
        "print(h + \" \" + m)\n",
        "print(h.upper())"
      ],
      "execution_count": 0,
      "outputs": [
        {
          "output_type": "stream",
          "text": [
            "Hola\n",
            "4\n",
            "Hola mundo\n",
            "HOLA\n"
          ],
          "name": "stdout"
        }
      ]
    },
    {
      "cell_type": "markdown",
      "metadata": {
        "id": "56kc1vl2RJZN",
        "colab_type": "text"
      },
      "source": [
        "## Listas\n",
        "Una lista es una secuencia de datos, posiblemente de distintos tipos, de largo variable."
      ]
    },
    {
      "cell_type": "code",
      "metadata": {
        "id": "mLdZBvJrRJZN",
        "colab_type": "code",
        "outputId": "71e08541-ed15-46c3-8062-8032ba573443",
        "colab": {}
      },
      "source": [
        "L=[3,2,1]\n",
        "print(L)\n",
        "L.append(0)\n",
        "print(L)\n",
        "x=L.pop()\n",
        "print(L)\n",
        "print(x)"
      ],
      "execution_count": 0,
      "outputs": [
        {
          "output_type": "stream",
          "text": [
            "[3, 2, 1]\n",
            "[3, 2, 1, 0]\n",
            "[3, 2, 1]\n",
            "0\n"
          ],
          "name": "stdout"
        }
      ]
    },
    {
      "cell_type": "markdown",
      "metadata": {
        "id": "uK2oAv2qRJZQ",
        "colab_type": "text"
      },
      "source": [
        "Los elementos de la lista se indexan partiendo desde cero."
      ]
    },
    {
      "cell_type": "code",
      "metadata": {
        "id": "Y2XEqEzNRJZQ",
        "colab_type": "code",
        "outputId": "4af8af02-5708-4f5a-d7c8-d1e593121009",
        "colab": {}
      },
      "source": [
        "print(L[0])\n",
        "print(L[2])\n",
        "print(L[-1]) # contando desde el extremo derecho"
      ],
      "execution_count": 0,
      "outputs": [
        {
          "output_type": "stream",
          "text": [
            "3\n",
            "1\n",
            "1\n"
          ],
          "name": "stdout"
        }
      ]
    },
    {
      "cell_type": "markdown",
      "metadata": {
        "id": "JjgjuBnKRJZS",
        "colab_type": "text"
      },
      "source": [
        "Una lista se puede construir en base a iterar una fórmula:"
      ]
    },
    {
      "cell_type": "code",
      "metadata": {
        "id": "zHPMWUB7RJZT",
        "colab_type": "code",
        "outputId": "ae5bb95a-35bb-489d-ca53-116d301c4c76",
        "colab": {}
      },
      "source": [
        "C = [n**2 for n in range(1,7)]\n",
        "print(C)"
      ],
      "execution_count": 0,
      "outputs": [
        {
          "output_type": "stream",
          "text": [
            "[1, 4, 9, 16, 25, 36]\n"
          ],
          "name": "stdout"
        }
      ]
    },
    {
      "cell_type": "markdown",
      "metadata": {
        "id": "-_hvBhfERJZW",
        "colab_type": "text"
      },
      "source": [
        "Una lista se puede recorrer a través de sus subíndices:"
      ]
    },
    {
      "cell_type": "code",
      "metadata": {
        "id": "cHtTYSZHRJZY",
        "colab_type": "code",
        "outputId": "f751d770-25af-408c-a544-4a90dc3ea1ac",
        "colab": {}
      },
      "source": [
        "for i in range(0,len(C)):\n",
        "    print(C[i])"
      ],
      "execution_count": 0,
      "outputs": [
        {
          "output_type": "stream",
          "text": [
            "1\n",
            "4\n",
            "9\n",
            "16\n",
            "25\n",
            "36\n"
          ],
          "name": "stdout"
        }
      ]
    },
    {
      "cell_type": "markdown",
      "metadata": {
        "id": "z3D9T6dxRJZd",
        "colab_type": "text"
      },
      "source": [
        "O bien iterando sobre los elementos de la lista:"
      ]
    },
    {
      "cell_type": "code",
      "metadata": {
        "id": "uPTHNjyjRJZe",
        "colab_type": "code",
        "outputId": "47138d50-b332-45d1-c922-177d2868159f",
        "colab": {}
      },
      "source": [
        "for v in C:\n",
        "    print(v)"
      ],
      "execution_count": 0,
      "outputs": [
        {
          "output_type": "stream",
          "text": [
            "1\n",
            "4\n",
            "9\n",
            "16\n",
            "25\n",
            "36\n"
          ],
          "name": "stdout"
        }
      ]
    },
    {
      "cell_type": "markdown",
      "metadata": {
        "id": "V5C3lThXRJZh",
        "colab_type": "text"
      },
      "source": [
        "## Funciones predefinidas\n",
        "Hay funciones que están disponibles para ser utilizadas:"
      ]
    },
    {
      "cell_type": "code",
      "metadata": {
        "id": "fdTntJVgRJZh",
        "colab_type": "code",
        "outputId": "6e7284f4-c56a-4e92-9313-6c20b6b3e5f3",
        "colab": {}
      },
      "source": [
        "import math\n",
        "a=3\n",
        "b=4\n",
        "c=math.sqrt(a**2+b**2)\n",
        "print(c)"
      ],
      "execution_count": 0,
      "outputs": [
        {
          "output_type": "stream",
          "text": [
            "5.0\n"
          ],
          "name": "stdout"
        }
      ]
    },
    {
      "cell_type": "markdown",
      "metadata": {
        "id": "ZDD1yBfzRJZj",
        "colab_type": "text"
      },
      "source": [
        "## Funciones\n",
        "Uno puede definir sus propias funciones:"
      ]
    },
    {
      "cell_type": "code",
      "metadata": {
        "id": "Lwq9JjIuRJZk",
        "colab_type": "code",
        "outputId": "2ea5a9bc-4e92-4639-f420-c203bd76251d",
        "colab": {}
      },
      "source": [
        "def hipotenusa(a,b):\n",
        "    import math\n",
        "    c=math.sqrt(a**2+b**2)\n",
        "    return c\n",
        "print(hipotenusa(3,4))"
      ],
      "execution_count": 0,
      "outputs": [
        {
          "output_type": "stream",
          "text": [
            "5.0\n"
          ],
          "name": "stdout"
        }
      ]
    },
    {
      "cell_type": "markdown",
      "metadata": {
        "id": "Y3Vics5eRJZm",
        "colab_type": "text"
      },
      "source": [
        "## Expresiones condicionales\n",
        "Una expresión de la forma\n",
        "```python\n",
        "valor_si_verdadero if condicion else valor_si_falso\n",
        "```\n",
        "permite por ejemplo definir funciones por tramos:"
      ]
    },
    {
      "cell_type": "code",
      "metadata": {
        "id": "k4A-u1hVRJZm",
        "colab_type": "code",
        "outputId": "a77eafaa-4dee-4d48-c7b5-2f9c5b422295",
        "colab": {}
      },
      "source": [
        "def valor_absoluto(x):\n",
        "    return -x if x<0 else x\n",
        "print(valor_absoluto(-5), valor_absoluto(5))"
      ],
      "execution_count": 0,
      "outputs": [
        {
          "output_type": "stream",
          "text": [
            "5 5\n"
          ],
          "name": "stdout"
        }
      ]
    },
    {
      "cell_type": "markdown",
      "metadata": {
        "id": "ttQj_S4jRJZo",
        "colab_type": "text"
      },
      "source": [
        "## Diccionarios\n",
        "Un diccionario es similar a una lista, pero los elementos se indexan con datos no necesariamente numéricos. Por ejemplo, supongamos que queremos convertir \"piedra\", \"papel\" y \"tijera\" a una representación numérica 0, 1, 2, respectivamente:"
      ]
    },
    {
      "cell_type": "code",
      "metadata": {
        "id": "b3VbDMKeRJZo",
        "colab_type": "code",
        "outputId": "4c008090-0a8b-4725-d26e-7779266e7104",
        "colab": {}
      },
      "source": [
        "p_a_n = {\"piedra\":0, \"papel\":1, \"tijera\":2} # para convertir de palabra a número\n",
        "print(p_a_n[\"papel\"])"
      ],
      "execution_count": 0,
      "outputs": [
        {
          "output_type": "stream",
          "text": [
            "1\n"
          ],
          "name": "stdout"
        }
      ]
    },
    {
      "cell_type": "markdown",
      "metadata": {
        "id": "qA7tu9zMRJZr",
        "colab_type": "text"
      },
      "source": [
        "La conversión inversa se puede hacer simplemente con una lista:"
      ]
    },
    {
      "cell_type": "code",
      "metadata": {
        "id": "ogL5JRnURJZs",
        "colab_type": "code",
        "outputId": "e507ba69-a852-4c73-eefc-8356955b4cc2",
        "colab": {}
      },
      "source": [
        "n_a_p = [\"piedra\", \"papel\", \"tijera\"] # para convertir de número a palabra\n",
        "print(n_a_p[1])"
      ],
      "execution_count": 0,
      "outputs": [
        {
          "output_type": "stream",
          "text": [
            "papel\n"
          ],
          "name": "stdout"
        }
      ]
    },
    {
      "cell_type": "markdown",
      "metadata": {
        "id": "NiV9EdwnRJZu",
        "colab_type": "text"
      },
      "source": [
        "Con esto podemos hacer una función en que el programa juegue contra el usuario:"
      ]
    },
    {
      "cell_type": "code",
      "metadata": {
        "id": "KYarOfjGRJZv",
        "colab_type": "code",
        "outputId": "207a3579-6c8e-4378-a134-213289816103",
        "colab": {}
      },
      "source": [
        "def juega():\n",
        "    from random import randint\n",
        "    programa=randint(0,2)\n",
        "    usuario=int(p_a_n[input(\"¿piedra, papel o tijera? \")])\n",
        "    resultado=\"Empate\" if programa==usuario else\\\n",
        "        \"Gana Usuario\" if (programa+1)%3==usuario else \"Gana Programa\"\n",
        "    print(\"Usuario juega\", n_a_p[usuario])\n",
        "    print(\"Programa juega\", n_a_p[programa])\n",
        "    print(\"Resultado:\", resultado)\n",
        "juega()"
      ],
      "execution_count": 0,
      "outputs": [
        {
          "output_type": "stream",
          "text": [
            "¿piedra, papel o tijera? piedra\n",
            "Usuario juega piedra\n",
            "Programa juega piedra\n",
            "Resultado: Empate\n"
          ],
          "name": "stdout"
        }
      ]
    },
    {
      "cell_type": "markdown",
      "metadata": {
        "id": "E7BBaO95RJZy",
        "colab_type": "text"
      },
      "source": [
        "## Instrucción condicional: if\n",
        "La instrucción `if` permite elegir entre distintas alternativas de instrucciones a ejecutar."
      ]
    },
    {
      "cell_type": "code",
      "metadata": {
        "id": "Gv2--fQaRJZy",
        "colab_type": "code",
        "outputId": "6558a8c0-cf88-4998-c8f4-dd8d83322edd",
        "colab": {}
      },
      "source": [
        "# Encontrar el máximo entre dos valores\n",
        "def max2(a, b):\n",
        "    if a>b:\n",
        "        m=a\n",
        "    else:\n",
        "        m=b\n",
        "    return m\n",
        "print(max2(3,7))"
      ],
      "execution_count": 0,
      "outputs": [
        {
          "output_type": "stream",
          "text": [
            "7\n"
          ],
          "name": "stdout"
        }
      ]
    },
    {
      "cell_type": "markdown",
      "metadata": {
        "id": "4Hm2z1awRJZ5",
        "colab_type": "text"
      },
      "source": [
        "Esto se puede generalizar a 3 valores, pero el resultado no es muy elegante:"
      ]
    },
    {
      "cell_type": "code",
      "metadata": {
        "id": "__d1km1FRJZ5",
        "colab_type": "code",
        "outputId": "2224a6d6-9735-4646-ccb1-04645952de37",
        "colab": {}
      },
      "source": [
        "# Encontrar el máximo entre tres valores\n",
        "def max3(a, b, c):\n",
        "    if a>b:\n",
        "        if a>c:\n",
        "            m=a\n",
        "        else:\n",
        "            m=c\n",
        "    else:\n",
        "        if b>c:\n",
        "            m=b\n",
        "        else:\n",
        "            m=c\n",
        "    return m\n",
        "print(max3(4,3,7))"
      ],
      "execution_count": 0,
      "outputs": [
        {
          "output_type": "stream",
          "text": [
            "7\n"
          ],
          "name": "stdout"
        }
      ]
    },
    {
      "cell_type": "markdown",
      "metadata": {
        "id": "zbreEKn8RJZ7",
        "colab_type": "text"
      },
      "source": [
        "Una mejor alternativa la podemos obtener si vamos obteniendo aproximaciones sucesivas al máximo:"
      ]
    },
    {
      "cell_type": "code",
      "metadata": {
        "id": "XgN6fImlRJZ8",
        "colab_type": "code",
        "outputId": "9cdd0735-1250-41b5-ce20-c272aa00adbf",
        "colab": {}
      },
      "source": [
        "# Encontrar el máximo entre dos valores\n",
        "def max2(a, b):\n",
        "    m=a\n",
        "    if b>m:\n",
        "        m=b\n",
        "    return m\n",
        "print(max2(3,7))"
      ],
      "execution_count": 0,
      "outputs": [
        {
          "output_type": "stream",
          "text": [
            "7\n"
          ],
          "name": "stdout"
        }
      ]
    },
    {
      "cell_type": "markdown",
      "metadata": {
        "id": "N1aQ6btURJZ_",
        "colab_type": "text"
      },
      "source": [
        "Esto se generaliza de manera mucho más simple a tres (o más) valores:"
      ]
    },
    {
      "cell_type": "code",
      "metadata": {
        "id": "TyTmwgPXRJaA",
        "colab_type": "code",
        "outputId": "7387695a-f896-4711-9656-8090b6353cd2",
        "colab": {}
      },
      "source": [
        "# Encontrar el máximo entre tres valores\n",
        "def max3(a, b, c):\n",
        "    m=a\n",
        "    if b>m:\n",
        "        m=b\n",
        "    if c>m:\n",
        "        m=c\n",
        "    return m\n",
        "print(max3(4,3,7))"
      ],
      "execution_count": 0,
      "outputs": [
        {
          "output_type": "stream",
          "text": [
            "7\n"
          ],
          "name": "stdout"
        }
      ]
    },
    {
      "cell_type": "markdown",
      "metadata": {
        "id": "h5qhqfI8RJaD",
        "colab_type": "text"
      },
      "source": [
        "Cuando hay preguntas encadenadas, se puede usar la cláusula `elif` (abreviatura de `else if`, pero que no abre un nuevo nivel de indentación):"
      ]
    },
    {
      "cell_type": "code",
      "metadata": {
        "id": "yJy9x24iRJaE",
        "colab_type": "code",
        "outputId": "ce13b866-95e2-4e48-e352-1148862ffbbd",
        "colab": {}
      },
      "source": [
        "# Dice si un año dado es bisiesto\n",
        "def es_bisiesto(a):\n",
        "    if a%400==0:   # Los múltiplos de 400 siempre son bisiestos\n",
        "        b=True\n",
        "    elif a%100==0: # Los demás múltiplos de 100 no son bisiestos\n",
        "        b=False\n",
        "    elif a%4==0:   # De los restantes, los múltiplos de 4 son bisiestos\n",
        "        b=True\n",
        "    else:          # Cualquier otro año no es bisiesto\n",
        "        b=False\n",
        "    return b\n",
        "print(es_bisiesto(1900), es_bisiesto(2000), es_bisiesto(2020))"
      ],
      "execution_count": 0,
      "outputs": [
        {
          "output_type": "stream",
          "text": [
            "False True True\n"
          ],
          "name": "stdout"
        }
      ]
    },
    {
      "cell_type": "markdown",
      "metadata": {
        "id": "gMl98J2tRJaG",
        "colab_type": "text"
      },
      "source": [
        "## Instrucciones iterativas: for\n",
        "La instrucción `for` itera con una variable que toma valores de una lista dada. A menudo, esa lista se especifica mediante `range`:"
      ]
    },
    {
      "cell_type": "code",
      "metadata": {
        "id": "X5nnvcIfRJaG",
        "colab_type": "code",
        "outputId": "c4633c84-2f53-49f3-e528-3ec3b1bff072",
        "colab": {}
      },
      "source": [
        "# Encuentra el máximo de una lista a\n",
        "def maximo(a):\n",
        "    m=a[0]\n",
        "    # Al comenzar cada iteración, se cumple que m==max(a[0],...,a[k-1])\n",
        "    for k in range(1,len(a)):\n",
        "        if a[k]>m:\n",
        "            m=a[k]\n",
        "    return(m)\n",
        "print(maximo([25, 42, 93, 17, 54, 28]))"
      ],
      "execution_count": 0,
      "outputs": [
        {
          "output_type": "stream",
          "text": [
            "93\n"
          ],
          "name": "stdout"
        }
      ]
    },
    {
      "cell_type": "markdown",
      "metadata": {
        "id": "0-A_cvs9RJaI",
        "colab_type": "text"
      },
      "source": [
        "El comentario que aparece junto al `for` describe lo que se llama el **invariante** del ciclo, y es muy útil para poder argumentar la correctitud del programa, así como para poder ayudar a su diseño.\n",
        "\n",
        "El invariante una afirmación lógica que debe ser verdadera cada vez que se intenta iniciar una nueva iteración, lo cual incluye tanto la primera vez como el último intento, en que se detecta que el rango ya se ha agotado y el ciclo termina.\n",
        "\n",
        "* La validez del invariante la primera vez la deben asegurar las instrucciones previas al ciclo, que se llaman instrucciones de *inicialización*. En este ejemplo, al comenzar el ciclo se tiene que $k=1$, y por lo tanto trivialmente se cumple que $m=\\max(a[0])$.\n",
        "\n",
        "* Las instrucciones al interior del ciclo (el \"cuerpo de ciclo\") parten de la premisa de que el invariante se cumple al inicio, y deben garantizar que se cumpla al final (para dejar todo listo para la próxima iteración). Esto se llama _preservar el invariante_. En este ejemplo, para asegurar que $m=\\max(a[0],\\ldots,a[k])$ sabiendo que ya era cierto que $m=\\max(a[0],\\ldots,a[k-1])$, se debe modificar m solo en el caso de que $a[k]$ sea mayor que $m$, o dejarlo igual si no.\n",
        "\n",
        "* Cuando se detecta que el rango se ha agotado, el invariante igualmente se cumple, y ambas cosas juntas deben asegurar que haya logrado el objetivo final deseado. En este ejemplo, cuando $k$ llega a ser igual a $len(a)$, el invariante implica que $m=\\max(a[0],\\ldots,a[len(a)-1])$, o sea, es el máximo de toda la lista."
      ]
    },
    {
      "cell_type": "markdown",
      "metadata": {
        "id": "rbSz64qcRJaI",
        "colab_type": "text"
      },
      "source": [
        "## Instrucciones iterativas: while\n",
        "La instrucción `while` ejecuta instrucciones mientra la condición especificada sea verdadera:"
      ]
    },
    {
      "cell_type": "code",
      "metadata": {
        "id": "-WhuCGrGRJaJ",
        "colab_type": "code",
        "outputId": "c40facc3-6b9d-442a-cd7a-c868e1672a66",
        "colab": {}
      },
      "source": [
        "# Dice si un número dado es primo o no\n",
        "def es_primo(n):\n",
        "    if n==2:\n",
        "        return True # 2 es primo\n",
        "    if n%2==0:\n",
        "        return False # ningún otro par es primo\n",
        "    k=3\n",
        "    while k**2<=n: # no es necesario buscar posibles factores más allá de sqrt(n)\n",
        "        if n%k==0:\n",
        "            return False\n",
        "        k+=2 # probamos solo los impares\n",
        "    # si no se encontró ningún factor menor que raíz de n, es primo\n",
        "    return True\n",
        "print(es_primo(2), es_primo(7), es_primo(9), es_primo(79823492843), es_primo(79823492869))"
      ],
      "execution_count": 0,
      "outputs": [
        {
          "output_type": "stream",
          "text": [
            "True True False False True\n"
          ],
          "name": "stdout"
        }
      ]
    },
    {
      "cell_type": "markdown",
      "metadata": {
        "id": "woqW1L_NRJaL",
        "colab_type": "text"
      },
      "source": [
        "## Ejemplo de programación con invariantes: Calcular $y = x^n$\n",
        "Supongamos que no tuviéramos una operación de elevación a potencia, y que necesitáramos calcular $x^n$ para $n$ entero no negativo.\n",
        "El algoritmo obvio es calcular $x*x*\\cdots *x$ ($n$ veces):"
      ]
    },
    {
      "cell_type": "code",
      "metadata": {
        "id": "3orNFsMORJaL",
        "colab_type": "code",
        "colab": {}
      },
      "source": [
        "def potencia(x, n):\n",
        "    y=1\n",
        "    for k in range(0,n):\n",
        "        y*=x\n",
        "    return y"
      ],
      "execution_count": 0,
      "outputs": []
    },
    {
      "cell_type": "code",
      "metadata": {
        "id": "XWVCapHARJaN",
        "colab_type": "code",
        "outputId": "f6b70f62-f9f5-4e4c-fe44-8975126d6907",
        "colab": {}
      },
      "source": [
        "print(potencia(2,10))"
      ],
      "execution_count": 0,
      "outputs": [
        {
          "output_type": "stream",
          "text": [
            "1024\n"
          ],
          "name": "stdout"
        }
      ]
    },
    {
      "cell_type": "markdown",
      "metadata": {
        "id": "GMFGxhXrRJaP",
        "colab_type": "text"
      },
      "source": [
        "El invariante, esto es, lo que se cumple al comenzar cada nueva iteración es $y = x^k$. Así, al inicio, cuando $k=0$, se tiene $y=1$ (inicialización), y al término, cuando $y=n$, se tiene la condición final buscada. La preservación del invariante consiste en multiplicar $y$ por $x$, porque así se sigue cumpliendo el invariante cuando $k$ se incrementa en $1$.\n",
        "\n",
        "Este algoritmo demora un tiempo proporcional a $n$, lo cual escribiremos $O(n)$ y lo leeremos \"del orden de $n$\". (Más adelante definiremos precisamente esta notación, y veremos que podríamos ser más precisos todavía al describir el tiempo que demora un algoritmo)\n",
        "\n",
        "¿Será posible calcular una potencia de manera más eficiente?\n",
        "\n",
        "Para ver cómo podríamos mejorar el algoritmo, comenzaremos por reescribirlo de modo que la variable $k$ vaya disminuyendo en lugar de ir aumentando, usando para ello la instrucción `while`:"
      ]
    },
    {
      "cell_type": "code",
      "metadata": {
        "id": "Mt5ZIp-JRJaQ",
        "colab_type": "code",
        "colab": {}
      },
      "source": [
        "def potencia(x, n):\n",
        "    y=1\n",
        "    k=n\n",
        "    while k>0:\n",
        "        y*=x\n",
        "        k-=1\n",
        "    return y"
      ],
      "execution_count": 0,
      "outputs": []
    },
    {
      "cell_type": "code",
      "metadata": {
        "id": "4jl1it10RJaS",
        "colab_type": "code",
        "outputId": "43d0c40f-1c70-488c-837b-cd33fa08c718",
        "colab": {}
      },
      "source": [
        "print(potencia(2,10))"
      ],
      "execution_count": 0,
      "outputs": [
        {
          "output_type": "stream",
          "text": [
            "1024\n"
          ],
          "name": "stdout"
        }
      ]
    },
    {
      "cell_type": "markdown",
      "metadata": {
        "id": "_xsgqbg5RJaU",
        "colab_type": "text"
      },
      "source": [
        "El invariante en este caso sería $y = x^{n-k}$ o, lo que es lo mismo, $y * x^k = x^n$.\n",
        "\n",
        "El reescribirlo de esta manera nos permite hacer el siguiente truco: vamos a introducir una variable $z$, cuyo valor inicial es $x$, y reformular el invariante como $y * z^k = x^n$:"
      ]
    },
    {
      "cell_type": "code",
      "metadata": {
        "id": "UHB2786GRJaV",
        "colab_type": "code",
        "colab": {}
      },
      "source": [
        "def potencia(x, n):\n",
        "    y=1\n",
        "    k=n\n",
        "    z=x\n",
        "    while k>0:\n",
        "        y*=z\n",
        "        k-=1\n",
        "    return y"
      ],
      "execution_count": 0,
      "outputs": []
    },
    {
      "cell_type": "code",
      "metadata": {
        "id": "LlfuA3LzRJaW",
        "colab_type": "code",
        "outputId": "2329b24d-3913-4367-b552-ffb609bde09d",
        "colab": {}
      },
      "source": [
        "print(potencia(2,10))"
      ],
      "execution_count": 0,
      "outputs": [
        {
          "output_type": "stream",
          "text": [
            "1024\n"
          ],
          "name": "stdout"
        }
      ]
    },
    {
      "cell_type": "markdown",
      "metadata": {
        "id": "XPhvg1yTRJaY",
        "colab_type": "text"
      },
      "source": [
        "Este cambio podría parecer ocioso, pero gracias a él ahora tenemos un grado adicional de libertad: en efecto, podemos modificar la variable $z$ en la medida que eso no haga que el invariante deje de cumplirse.\n",
        "\n",
        "En particular, una oportunidad de hacer esto aparece cuando $k$ es par. En ese caso, si elevamos $z$ al cuadrado y al mismo tiempo dividimos $k$ a la mitad, ambos cambios se complementan para hacer que el invariante se preserve:"
      ]
    },
    {
      "cell_type": "code",
      "metadata": {
        "id": "SAzd4RVfRJaY",
        "colab_type": "code",
        "colab": {}
      },
      "source": [
        "def potencia(x, n):\n",
        "    y=1\n",
        "    k=n\n",
        "    z=x\n",
        "    while k>0:\n",
        "        if k%2==0: # caso k par\n",
        "            z=z*z\n",
        "            k//=2\n",
        "        else:      # caso k impar\n",
        "            y*=z \n",
        "            k-=1\n",
        "    return y"
      ],
      "execution_count": 0,
      "outputs": []
    },
    {
      "cell_type": "code",
      "metadata": {
        "id": "f3kUsKkQRJaa",
        "colab_type": "code",
        "outputId": "21a63185-8252-45ba-9dbc-8c7e62490bf7",
        "colab": {}
      },
      "source": [
        "print(potencia(2,10))"
      ],
      "execution_count": 0,
      "outputs": [
        {
          "output_type": "stream",
          "text": [
            "1024\n"
          ],
          "name": "stdout"
        }
      ]
    },
    {
      "cell_type": "markdown",
      "metadata": {
        "id": "QZ_5bjU6RJad",
        "colab_type": "text"
      },
      "source": [
        "Este algoritmo admite todavía una pequeña optimización. Cuando $k$ se divide por $2$, no solo se preserva el invariante, sino que además $k$ sigue siendo $>0$, y por lo tanto no es necesario en ese caso volver a preguntar por la condición del `while`. El algoritmo queda como sigue:"
      ]
    },
    {
      "cell_type": "code",
      "metadata": {
        "id": "8Drpat2BRJae",
        "colab_type": "code",
        "colab": {}
      },
      "source": [
        "def potencia(x, n):\n",
        "    y=1\n",
        "    k=n\n",
        "    z=x\n",
        "    while k>0:\n",
        "        while k%2==0: # caso k par\n",
        "            z=z*z\n",
        "            k//=2\n",
        "        y*=z # aquí estamos seguros que k es impar\n",
        "        k-=1\n",
        "    return y"
      ],
      "execution_count": 0,
      "outputs": []
    },
    {
      "cell_type": "code",
      "metadata": {
        "id": "R-IME3ELRJag",
        "colab_type": "code",
        "outputId": "425ef45c-4779-4ca4-8896-d45339dddc13",
        "colab": {}
      },
      "source": [
        "print(potencia(2,10))"
      ],
      "execution_count": 0,
      "outputs": [
        {
          "output_type": "stream",
          "text": [
            "1024\n"
          ],
          "name": "stdout"
        }
      ]
    },
    {
      "cell_type": "markdown",
      "metadata": {
        "id": "3NhKyyhpRJaj",
        "colab_type": "text"
      },
      "source": [
        "Este algoritmo (en cualquiera de las dos últimas versiones) se llama el _algoritmo binario_, y es mucho más eficiente que el algoritmo inicial. Cada vez que se da el caso par, $k$ disminuye a a mitad, y eso ocurre al menos la mitad de las veces. Pero si $k$ comienza con el valor $n$, la operación de dividir por $2$ se puede ejecutar a lo más $\\log_2{n}$ veces, por lo tanto el tiempo total de ejecución es $O(\\log_2{n})$, en lugar de $O(n)$. \n",
        "\n",
        "Decimos que el algoritmo original era de tiempo lineal, y que el algoritmo binario es de tiempo logarítmico. Para $n$ grande, la diferencia de eficiencia es muy grande en favor del algoritmo binario.\n",
        "\n",
        "Una observación importante es que para que el algoritmo binario funcione, solo es necesario que $x$ $y$, $z$ pertenezcan a un conjunto para el cual hay definida una operación multiplicativa que sea asociativa y que tenga un elemento neutro. Por lo tanto, este algoritmo no solo sirve para elevar a potencia números enteros o reales, sino que además, por ejemplo, matrices. "
      ]
    },
    {
      "cell_type": "markdown",
      "metadata": {
        "id": "WNbaulwdRJak",
        "colab_type": "text"
      },
      "source": [
        "## Numpy y Arreglos\n",
        "\n",
        "Numpy es la principal biblioteca para computación científica en Python.\n",
        "\n",
        "Una de las características de Numpy es que provee arreglos multidimensionales de alta eficiencia. Mientras la gran flexibilidad de las listas de Python puede hacer que no sea muy eficiente el acceso a elementos específicos, los arreglos de Numpy aseguran el acceso a cada elemento en tiempo constante. Por esa razón, utilizaremos estos arreglos cuando necesitemos asegurar la eficiencia de la implementación de los algoritmos.\n"
      ]
    },
    {
      "cell_type": "code",
      "metadata": {
        "id": "dZ6iYS88RJak",
        "colab_type": "code",
        "outputId": "35fee55e-0b9c-4ba8-bbea-70d9f52d1769",
        "colab": {}
      },
      "source": [
        "import numpy as np\n",
        "\n",
        "a = np.array([6.5, 5.2, 4.6, 7.0, 4.3])\n",
        "print(a[2])"
      ],
      "execution_count": 0,
      "outputs": [
        {
          "output_type": "stream",
          "text": [
            "4.6\n"
          ],
          "name": "stdout"
        }
      ]
    },
    {
      "cell_type": "code",
      "metadata": {
        "id": "_QLYv0TpRJan",
        "colab_type": "code",
        "outputId": "37675dcf-4bf3-4eb3-c873-550c3e97c630",
        "colab": {}
      },
      "source": [
        "print(len(a))"
      ],
      "execution_count": 0,
      "outputs": [
        {
          "output_type": "stream",
          "text": [
            "5\n"
          ],
          "name": "stdout"
        }
      ]
    },
    {
      "cell_type": "markdown",
      "metadata": {
        "id": "CysaAIXfRJat",
        "colab_type": "text"
      },
      "source": [
        "Hay varias formas de crear arreglos inicializados con ceros, unos, valores constantes o valores aleatorios."
      ]
    },
    {
      "cell_type": "code",
      "metadata": {
        "id": "-iNJCTsURJau",
        "colab_type": "code",
        "outputId": "591b33a2-e4a7-49f7-bbcd-2cc5edfdddd9",
        "colab": {}
      },
      "source": [
        "b = np.ones(10)\n",
        "print(b)"
      ],
      "execution_count": 0,
      "outputs": [
        {
          "output_type": "stream",
          "text": [
            "[1. 1. 1. 1. 1. 1. 1. 1. 1. 1.]\n"
          ],
          "name": "stdout"
        }
      ]
    },
    {
      "cell_type": "code",
      "metadata": {
        "id": "F8bbgqs_RJaw",
        "colab_type": "code",
        "outputId": "2c24db44-b7fa-44fd-a54d-dbe687ab6e77",
        "colab": {}
      },
      "source": [
        "c = np.zeros(7,dtype=int)\n",
        "print(c)"
      ],
      "execution_count": 0,
      "outputs": [
        {
          "output_type": "stream",
          "text": [
            "[0 0 0 0 0 0 0]\n"
          ],
          "name": "stdout"
        }
      ]
    },
    {
      "cell_type": "markdown",
      "metadata": {
        "id": "TaJHUOd8RJax",
        "colab_type": "text"
      },
      "source": [
        "En los dos ejemplos anteriores mostramos la diferencia que se produce al explicitar el tipo de datos del arreglo. En el primero, obtenemos el _default_, que es flotante, mientras en el segundo forzamos a que sea entero."
      ]
    },
    {
      "cell_type": "code",
      "metadata": {
        "id": "MibYXVAARJay",
        "colab_type": "code",
        "outputId": "75131fae-a549-4c21-bc68-59c67ae72b93",
        "colab": {}
      },
      "source": [
        "c = np.full(5, 2)\n",
        "print(c)"
      ],
      "execution_count": 0,
      "outputs": [
        {
          "output_type": "stream",
          "text": [
            "[2 2 2 2 2]\n"
          ],
          "name": "stdout"
        }
      ]
    },
    {
      "cell_type": "code",
      "metadata": {
        "id": "1gfK9wDmRJaz",
        "colab_type": "code",
        "outputId": "94d9ecc9-2b93-4230-b398-05d1417e75e4",
        "colab": {}
      },
      "source": [
        "d = np.random.random(6)\n",
        "print(d)"
      ],
      "execution_count": 0,
      "outputs": [
        {
          "output_type": "stream",
          "text": [
            "[0.05465213 0.96277623 0.1804966  0.76631925 0.48289296 0.88119081]\n"
          ],
          "name": "stdout"
        }
      ]
    },
    {
      "cell_type": "markdown",
      "metadata": {
        "id": "WDz9PwjuRJa3",
        "colab_type": "text"
      },
      "source": [
        "También es posible crear y manejar arreglos de varias dimensiones."
      ]
    },
    {
      "cell_type": "code",
      "metadata": {
        "id": "kGUt-aBJRJa3",
        "colab_type": "code",
        "outputId": "447c6924-22ad-4dde-ee7e-faff23ec0be1",
        "colab": {}
      },
      "source": [
        "a = np.array([[1,2,3],[4,5,6]])\n",
        "print(a)"
      ],
      "execution_count": 0,
      "outputs": [
        {
          "output_type": "stream",
          "text": [
            "[[1 2 3]\n",
            " [4 5 6]]\n"
          ],
          "name": "stdout"
        }
      ]
    },
    {
      "cell_type": "code",
      "metadata": {
        "id": "7JZI7WWZRJa5",
        "colab_type": "code",
        "outputId": "a16ace92-e865-46a2-d79a-9cb3509426c5",
        "colab": {}
      },
      "source": [
        "print(a[0,2])"
      ],
      "execution_count": 0,
      "outputs": [
        {
          "output_type": "stream",
          "text": [
            "3\n"
          ],
          "name": "stdout"
        }
      ]
    },
    {
      "cell_type": "code",
      "metadata": {
        "id": "KO-U7wz5RJa6",
        "colab_type": "code",
        "outputId": "2cbd9f36-50c4-4d76-ca83-db2780858231",
        "colab": {}
      },
      "source": [
        "(m,n)=np.shape(a)\n",
        "print(m,n)"
      ],
      "execution_count": 0,
      "outputs": [
        {
          "output_type": "stream",
          "text": [
            "2 3\n"
          ],
          "name": "stdout"
        }
      ]
    },
    {
      "cell_type": "code",
      "metadata": {
        "id": "TZEWdDj9RJa7",
        "colab_type": "code",
        "outputId": "165f6371-c1ab-4ccb-ad44-b01390968fd5",
        "colab": {}
      },
      "source": [
        "b = np.zeros((3,3))\n",
        "print(b)"
      ],
      "execution_count": 0,
      "outputs": [
        {
          "output_type": "stream",
          "text": [
            "[[0. 0. 0.]\n",
            " [0. 0. 0.]\n",
            " [0. 0. 0.]]\n"
          ],
          "name": "stdout"
        }
      ]
    },
    {
      "cell_type": "code",
      "metadata": {
        "id": "i0L9fTeFRJa9",
        "colab_type": "code",
        "outputId": "2ee16ba8-637f-414b-c3cb-c6e829e18708",
        "colab": {}
      },
      "source": [
        "c = np.eye(3)\n",
        "print(c)"
      ],
      "execution_count": 0,
      "outputs": [
        {
          "output_type": "stream",
          "text": [
            "[[1. 0. 0.]\n",
            " [0. 1. 0.]\n",
            " [0. 0. 1.]]\n"
          ],
          "name": "stdout"
        }
      ]
    },
    {
      "cell_type": "markdown",
      "metadata": {
        "id": "U1qyuqxNRJbB",
        "colab_type": "text"
      },
      "source": [
        "## Ejemplo: Ordenación por inserción\n",
        "\n",
        "Supongamos que se tiene un arreglo $a$, de tamaño $n$, y queremos reordenar los datos almacenados en su interior de modo que queden en orden ascendente.\n",
        "\n",
        "El método de **Ordenación por Inserción** se basa en formar en el sector izquierdo del arreglo un subconjunto ordenado, en el cual se van insertando uno por uno los elementos restantes. Para la inicialización, comenzamos con un subconjunto ordenado de tamaño 0, y el proceso termina cuando el sunconjunto ordenado llega a tener tamaño $n$. El invariante se puede visualizar como:\n",
        "\n",
        "![insercion](https://github.com/ppoblete/AED/blob/master/insercion.png?raw=1)\n",
        "\n",
        "La variable $k$ indica el tamaño del subconjunto ordenado. Equivalentemente, $k$ es el subíndice del primer elemento todavía no ordenado, y que será el que se insertará en esta oportunidad."
      ]
    },
    {
      "cell_type": "code",
      "metadata": {
        "id": "xoj3ih4vRJbC",
        "colab_type": "code",
        "colab": {}
      },
      "source": [
        "# Ordenación Por Inserción\n",
        "def ordena_insercion(a):\n",
        "    \n",
        "    n=len(a)\n",
        "    for k in range(0,n):\n",
        "        insertar(a,k)"
      ],
      "execution_count": 0,
      "outputs": []
    },
    {
      "cell_type": "markdown",
      "metadata": {
        "id": "Ui61Y4IgRJbD",
        "colab_type": "text"
      },
      "source": [
        "Este algoritmo todavía no es ejecutable, porque falta definir la función `insertar`, que se encarga de tomar $a[k]$ e insertarlo entre los anteriores. La forma más simple de hacer esto es a través de intercambios sucesivos:"
      ]
    },
    {
      "cell_type": "code",
      "metadata": {
        "id": "nDWcR160RJbE",
        "colab_type": "code",
        "colab": {}
      },
      "source": [
        "# Insertar a[k] entre los elementos anteriores preservando el orden ascendente (versión 1)\n",
        "def insertar(a, k):\n",
        "    j=k # señala la posición del elemento que está siendo insertado\n",
        "    while j>0 and a[j]<a[j-1]:\n",
        "        (a[j], a[j-1]) = (a[j-1], a[j])\n",
        "        j-=1"
      ],
      "execution_count": 0,
      "outputs": []
    },
    {
      "cell_type": "markdown",
      "metadata": {
        "id": "ovkEUsd2RJbH",
        "colab_type": "text"
      },
      "source": [
        "Para poder probar este algoritmo, generemos un arreglo con números aleatorios y ordenémoslo:"
      ]
    },
    {
      "cell_type": "code",
      "metadata": {
        "id": "FVMnW6c-RJbI",
        "colab_type": "code",
        "outputId": "206b85e3-4ff1-4b85-bd11-be6f0fdbb5d1",
        "colab": {}
      },
      "source": [
        "a = np.random.random(6)\n",
        "print(a)\n",
        "ordena_insercion(a)\n",
        "print(a)"
      ],
      "execution_count": 0,
      "outputs": [
        {
          "output_type": "stream",
          "text": [
            "[0.5221578  0.84658608 0.08829735 0.70652115 0.06085142 0.46210583]\n",
            "[0.06085142 0.08829735 0.46210583 0.5221578  0.70652115 0.84658608]\n"
          ],
          "name": "stdout"
        }
      ]
    },
    {
      "cell_type": "markdown",
      "metadata": {
        "id": "ZE-PDtG5RJbL",
        "colab_type": "text"
      },
      "source": [
        "Si observamos el algoritmo de inserción, podemos ver que en los intercambios siempre uno de los dos elementos involucrados es el que se está insertando, el cual pasa por muchos lugares provisorios hasta llegar finalmente a su ubicación definitiva. Esto sugiere que podemos ahorrar trabajo si en lugar de hacer todos esos intercambios, sacamos primero el elemento a insertar hacia una variable auxiliar, luego vamos moviendo los restantes elementos hacia la derecha, y al final movemos directamente el nuevo elemento desde la variable auxiliar hasta su posición definitiva:"
      ]
    },
    {
      "cell_type": "code",
      "metadata": {
        "id": "7MtFSirjRJbO",
        "colab_type": "code",
        "colab": {}
      },
      "source": [
        "# Insertar a[k] entre los elementos anteriores preservando el orden ascendente (versión 2)\n",
        "def insertar(a, k):\n",
        "    b=a[k] # b almacena transitoriamente al elemento a[k]\n",
        "    j=k # señala la posición del lugar \"vacío\"\n",
        "    while j>0 and b<a[j-1]:\n",
        "        a[j]=a[j-1]\n",
        "        j-=1\n",
        "    a[j]=b"
      ],
      "execution_count": 0,
      "outputs": []
    },
    {
      "cell_type": "code",
      "metadata": {
        "id": "ClLNk2F0RJbQ",
        "colab_type": "code",
        "outputId": "f3802f0a-e3b2-4b70-f522-bb203a9cafe0",
        "colab": {}
      },
      "source": [
        "a = np.random.random(6)\n",
        "print(a)\n",
        "ordena_insercion(a)\n",
        "print(a)"
      ],
      "execution_count": 0,
      "outputs": [
        {
          "output_type": "stream",
          "text": [
            "[0.33292196 0.97290537 0.22972209 0.98388588 0.61353875 0.35566984]\n",
            "[0.22972209 0.33292196 0.35566984 0.61353875 0.97290537 0.98388588]\n"
          ],
          "name": "stdout"
        }
      ]
    },
    {
      "cell_type": "markdown",
      "metadata": {
        "id": "NTYE64XvRJbS",
        "colab_type": "text"
      },
      "source": [
        "Para analizar la eficiencia de este algoritmo, podemos considerar varios casos:\n",
        "* Mejor caso: Si el arreglo ya viene ordenado, el ciclo de la función `insertar` termina de inmediato, así que esa función demora tiempo constante, y el proceso completo demora tiempo $O(n)$, lineal en $n$.\n",
        "* Peor caso: Si el arreglo viene originalmente en orden decreciente, el ciclo de la función `insertar` hace el máximo de iteraciones ($k$), y la suma de todos esos costos da un total de $O(n^2)$, cuadrático en $n$.\n",
        "* Caso promedio: Si el arreglo viene en orden aleatorio, el número promedio de iteraciones que hace el ciclo de la función `insertar` es aproximadamente $k/2$, y la suma de todos esos costos igual da un total de $O(n^2)$. Esto es, el costo promedio también es cuadrático."
      ]
    },
    {
      "cell_type": "markdown",
      "metadata": {
        "id": "LHDMWsuwRJbT",
        "colab_type": "text"
      },
      "source": [
        "# Ejemplo: Ordenación por Selección\n",
        "\n",
        "El método de **Ordenación por Selección** se basa en extraer el máximo elemento y moverlo hacia el extremo derecho del arreglo, y repetir este proceso entre los elementos restantes hasta que todos hayan sido extraídos. El invariante se puede visualizar como:\n",
        "\n",
        "![ord-seleccion](https://github.com/ppoblete/AED/blob/master/seleccion.png?raw=1)\n",
        "\n",
        "La variable $k$ indica el tamaño del subconjunto que todavía falta por procesar. Equivalentemente, es el subíndice del primer elemento que ya pertenece al subconjunto ordenado."
      ]
    },
    {
      "cell_type": "code",
      "metadata": {
        "id": "IdTyyHHHRJbV",
        "colab_type": "code",
        "colab": {}
      },
      "source": [
        "# Ordenación por Selección\n",
        "def ordena_seleccion(a):\n",
        "    n=len(a)\n",
        "    for k in range(n,1,-1): # Paramos cuando todavía queda 1 elemento \"desordenado\" (¿por qué está bien eso?)\n",
        "        j=pos_maximo(a,k) # Encuentra posición del máximo entre a[0],...,a[k-1]\n",
        "        (a[j],a[k-1])=(a[k-1],a[j])"
      ],
      "execution_count": 0,
      "outputs": []
    },
    {
      "cell_type": "code",
      "metadata": {
        "id": "qjr3fTATRJbX",
        "colab_type": "code",
        "colab": {}
      },
      "source": [
        "# Encuentra posición del máximo entre a[0],...,a[k-1]\n",
        "def pos_maximo(a, k):\n",
        "    j=0 # j señala la posición del máximo\n",
        "    for i in range(1,k):\n",
        "        if a[i]>a[j]: # Encontramos un nuevo máximo\n",
        "            j=i\n",
        "    return j"
      ],
      "execution_count": 0,
      "outputs": []
    },
    {
      "cell_type": "markdown",
      "metadata": {
        "id": "HHCR7NnwRJbY",
        "colab_type": "text"
      },
      "source": [
        "Nuevamente, probamos nuestro algoritmo con un arreglo aleatorio:"
      ]
    },
    {
      "cell_type": "code",
      "metadata": {
        "id": "nL7K0ck5RJbZ",
        "colab_type": "code",
        "outputId": "b098bc22-c074-48c8-844d-db90161fba8b",
        "colab": {}
      },
      "source": [
        "a = np.random.random(6)\n",
        "print(a)\n",
        "ordena_seleccion(a)\n",
        "print(a)"
      ],
      "execution_count": 0,
      "outputs": [
        {
          "output_type": "stream",
          "text": [
            "[0.84268449 0.69233784 0.13489307 0.97140719 0.96997662 0.86297069]\n",
            "[0.13489307 0.69233784 0.84268449 0.86297069 0.96997662 0.97140719]\n"
          ],
          "name": "stdout"
        }
      ]
    },
    {
      "cell_type": "markdown",
      "metadata": {
        "id": "HgaA2liDRJbb",
        "colab_type": "text"
      },
      "source": [
        "En este algoritmo, siempre se recorre todo el conjunto de tamaño $k$ para encontrar el máximo, de modo que la suma de todos estos costos de un total de $O(n^2)$, en todos los casos.\n",
        "\n",
        "Más adelante veremos que hay maneras mucho más eficientes de calcular el máximo de un conjunto, una vez que se ha encontrado y extraído el máximo la primera vez.\n",
        "\n",
        "Piensen por ejemplo en un típico torneo de tenis, en donde los jugadores se van eliminando por rondas, hasta que en la final queda solo un jugador invicto: el campeón. Si hay $n$ jugadores, ese proceso requiere exactamente $n-1$ partidos. **Pero** una vez que se ha jugado todo ese torneo, hagamos un experimento mental y pensemos que habría sucedido si el primer día el campeón no hubiera podido jugar por alguna causa. Para determinar quién habría resultado campeón en esas circunstancias (o sea,, para encontrar al subcampeón), **no sería necesario repetir todo el torneo, sino solo volver a jugar los partidos en los que habría participado el campeón**. Ese número de partidos es mucho menor a $n$, y en realidad no es difícil ver que es logarítmico. Y eso puede repetirse para encontrar al tercero, al cuarto, etc., siempre con el mismo costo logarítmico.\n",
        "\n",
        "Si sumamos todos esos costos, da un total de $O(n\\log{n})$, en el peor caso.\n",
        "\n",
        "Lo anterior es una \"demostración de factibilidad\" de que existen algoritmos de ordenación de costo $O(n\\log{n})$, más eficientes que $O(n^2)$. Más adelante en el curso veremos algoritmos prácticos que alcanzan esta eficiencia."
      ]
    },
    {
      "cell_type": "markdown",
      "metadata": {
        "id": "f8BSFXaPRJbc",
        "colab_type": "text"
      },
      "source": [
        "## Ejemplo: Ordenación de la Burbuja\n",
        "\n",
        "Este algoritmo se basa en ir haciendo pasadas sucesivas de izquierda a derecha sobre el arreglo, y cada vez que encuentra dos elementos adyacentes fuera de orden, los intercambia. Así, el arreglo va quedando cada vez \"más ordenado\", hasta que finalmente esté totalmente ordenado.\n",
        "\n",
        "Analizando el efecto de una pasada de izquierda a derecha, vemos que, aparte de los pequeños desórdenes que pueda ir arreglando por el camino, una vez que el algoritmo se encuentra con el máximo, los intercambios lo empiezan a trasladar paso a paso hacia la derecha, hasta que finalmente queda en el extremo derecho del arreglo. Eso significa que ya ha llegado a su posición definitiva, y no necesitamos volver a tocarlo. Por lo tanto, el algoritmo puede ignorar esos elementos al extremo derecho, los que por construcción están ordenados y son mayores que todos los de la izquierda. Esto lo podemos visualizar como:\n",
        "\n",
        "![ord-seleccion](https://github.com/ppoblete/AED/blob/master/seleccion.png?raw=1)\n",
        "\n",
        "¡El mismo invariante que la Ordenación por Selección! Sin embargo, el algoritmo resultante es distinto."
      ]
    },
    {
      "cell_type": "code",
      "metadata": {
        "id": "WiqHUOFCRJbc",
        "colab_type": "code",
        "colab": {}
      },
      "source": [
        "# Ordenación de la Burbuja (versión 1)\n",
        "def ordena_burbuja(a):\n",
        "    n=len(a)\n",
        "    k=n # número de elementos todavía desordenados\n",
        "    while k>1:\n",
        "        # Hacer una pasada sobre a[0],...,a[k-1]\n",
        "        # intercambiando elementos adyacentes desordenados\n",
        "        for j in range(0,k-1):\n",
        "            if a[j]>a[j+1]:\n",
        "                (a[j],a[j+1])=(a[j+1],a[j])\n",
        "        # Disminuir k\n",
        "        k-=1"
      ],
      "execution_count": 0,
      "outputs": []
    },
    {
      "cell_type": "code",
      "metadata": {
        "id": "3phiw7CFRJbf",
        "colab_type": "code",
        "outputId": "489a55e6-44a2-4617-b44f-d455243b98d7",
        "colab": {}
      },
      "source": [
        "a = np.random.random(6)\n",
        "print(a)\n",
        "ordena_burbuja(a)\n",
        "print(a)"
      ],
      "execution_count": 0,
      "outputs": [
        {
          "output_type": "stream",
          "text": [
            "[0.67489337 0.9878026  0.87837206 0.21728774 0.05664982 0.89561046]\n",
            "[0.05664982 0.21728774 0.67489337 0.87837206 0.89561046 0.9878026 ]\n"
          ],
          "name": "stdout"
        }
      ]
    },
    {
      "cell_type": "markdown",
      "metadata": {
        "id": "dI8LKDaoRJbi",
        "colab_type": "text"
      },
      "source": [
        "Este algoritmo demora siempre tiempo $O(n^2)$, ¡incluso si se le da para ordenar un arregla que ya viene ordenado!\n",
        "\n",
        "No cuesta mucho introducir una variable booleana que señale si en una pasada no se ha hecho ningún intercambio, y usar esa variable para terminar el proceso cuando eso ocurre. Pero hay una manera mejor de modificar el algoritmo para aumentar su eficiencia.\n",
        "\n",
        "Para esto, introducimos una variable $i$ que recuerda el punto donde se hizo el último intercambio (el cual habría sido entre $a[i-1]$ y $a[i]$. Si a partir de ese punto ya no se encontraron elementos fuera de orden, eso quiere decir que $a[i-1]<a[i]$ y luego a partir de ahí todos los elementos están ordenados, **hasta el final del arreglo**. Por lo tanto, el invariante se preserva si hacemos $k=i$.\n",
        "\n",
        "¿Qué pasa si no hubo ningún intercambio? Para este caso, si le damos a la variable $i$ el valor inicial cero, al hacer $k=i$ tendríamos $k=0$ y el proceso terminaría automáticamente. El algoritmo resultante es el siguiente:"
      ]
    },
    {
      "cell_type": "code",
      "metadata": {
        "id": "1aZ5NsisRJbi",
        "colab_type": "code",
        "colab": {}
      },
      "source": [
        "# Ordenación de la Burbuja (versión 2)\n",
        "def ordena_burbuja(a):\n",
        "    n=len(a)\n",
        "    k=n # número de elementos todavía desordenados\n",
        "    while k>1:\n",
        "        # Hacer una pasada sobre a[0],...,a[k-1]\n",
        "        # intercambiando elementos adyacentes desordenados\n",
        "        i=0\n",
        "        for j in range(0,k-1):\n",
        "            if a[j]>a[j+1]:\n",
        "                (a[j],a[j+1])=(a[j+1],a[j])\n",
        "                i=j+1 # recordamos el lugar del último intercambio\n",
        "        # Disminuir k\n",
        "        k=i"
      ],
      "execution_count": 0,
      "outputs": []
    },
    {
      "cell_type": "code",
      "metadata": {
        "id": "3ef5dusuRJbo",
        "colab_type": "code",
        "outputId": "d561c195-f98b-432a-a245-9832bbf6da65",
        "colab": {}
      },
      "source": [
        "a = np.random.random(6)\n",
        "print(a)\n",
        "ordena_burbuja(a)\n",
        "print(a)"
      ],
      "execution_count": 0,
      "outputs": [
        {
          "output_type": "stream",
          "text": [
            "[0.80839305 0.55041689 0.21820486 0.08990332 0.48931562 0.68359274]\n",
            "[0.08990332 0.21820486 0.48931562 0.55041689 0.68359274 0.80839305]\n"
          ],
          "name": "stdout"
        }
      ]
    },
    {
      "cell_type": "markdown",
      "metadata": {
        "id": "Q7JvdN5iRJbp",
        "colab_type": "text"
      },
      "source": [
        "Este algoritmo aprovecha mejor el orden previo que puede trar el arreglo, y en particular ordena arreglos ordenados en tiempo lineal. Pero tanto su peor caso como su caso promedio siguen siendo cuadráticos."
      ]
    },
    {
      "cell_type": "markdown",
      "metadata": {
        "id": "uWTFHLzLRJbq",
        "colab_type": "text"
      },
      "source": [
        "## Recursividad\n",
        "\n",
        "El poder escribir funciones que se llamen a sí mismas es una herramienta muy poderosa de programación. Veremos algunos ejemplos de aplicaciones de este concepto, y más adelamte veremos cómo puede conducir al diseño de algoritmos muy eficientes."
      ]
    },
    {
      "cell_type": "markdown",
      "metadata": {
        "id": "Th3qPwkRRJbt",
        "colab_type": "text"
      },
      "source": [
        "## Ejemplo: Calcular $y=x^n$\n",
        "Revisemos nuevamente este problema, pero ahora desde un punto de vista recursivo. Una potencia se puede definir recursivamente de la siguiente manera:\n",
        "\n",
        "$$\n",
        "x^n =\n",
        "\\begin{cases}x * x^{n-1} & \\mbox{si }n>0 \\\\\n",
        "1 & \\mbox{si }n=0\n",
        "\\end{cases}\n",
        "$$\n",
        "\n",
        "lo cual se puede implementar directamente como una función recursiva:"
      ]
    },
    {
      "cell_type": "code",
      "metadata": {
        "id": "j1whTWAiRJbt",
        "colab_type": "code",
        "colab": {}
      },
      "source": [
        "def potencia(x,n):\n",
        "    if n==0:\n",
        "        return 1\n",
        "    else:\n",
        "        return x * potencia(x,n-1)"
      ],
      "execution_count": 0,
      "outputs": []
    },
    {
      "cell_type": "code",
      "metadata": {
        "id": "dareLP5dRJbw",
        "colab_type": "code",
        "outputId": "5261afd1-ce11-4a13-bfe6-08fc234d88d4",
        "colab": {}
      },
      "source": [
        "print(potencia(2,10))"
      ],
      "execution_count": 0,
      "outputs": [
        {
          "output_type": "stream",
          "text": [
            "1024\n"
          ],
          "name": "stdout"
        }
      ]
    },
    {
      "cell_type": "markdown",
      "metadata": {
        "id": "DeM8CjNrRJby",
        "colab_type": "text"
      },
      "source": [
        "El algoritmo resultante demora tiempo $O(n)$, pero  puede mejorarse si el caso $n$ par lo tratamos aparte:\n",
        "\n",
        "$$\n",
        "x^n =\n",
        "\\begin{cases}\n",
        "(x^2)^{n/2} & \\mbox{si }n>0\\mbox{, par} \\\\\n",
        "x * x^{n-1} & \\mbox{si }n>0\\mbox{, impar} \\\\\n",
        "1 & \\mbox{si }n=0\n",
        "\\end{cases}\n",
        "$$\n",
        "\n",
        "y la función que lo implementa es:"
      ]
    },
    {
      "cell_type": "code",
      "metadata": {
        "id": "H6DMlA8xRJby",
        "colab_type": "code",
        "colab": {}
      },
      "source": [
        "def potencia(x,n):\n",
        "    if n==0:\n",
        "        return 1\n",
        "    elif n%2==0:\n",
        "        return potencia(x*x,n//2)\n",
        "    else:\n",
        "        return x * potencia(x,n-1)"
      ],
      "execution_count": 0,
      "outputs": []
    },
    {
      "cell_type": "code",
      "metadata": {
        "id": "Baie73fARJb1",
        "colab_type": "code",
        "outputId": "c98ebf97-8229-41da-8f03-d02241585df5",
        "colab": {}
      },
      "source": [
        "print(potencia(2,10))"
      ],
      "execution_count": 0,
      "outputs": [
        {
          "output_type": "stream",
          "text": [
            "1024\n"
          ],
          "name": "stdout"
        }
      ]
    },
    {
      "cell_type": "markdown",
      "metadata": {
        "id": "hvjCpRe1RJb3",
        "colab_type": "text"
      },
      "source": [
        "El resultado es el algoritmo binario, que demora tiempo $O(\\log{n})$, en versión recursiva."
      ]
    },
    {
      "cell_type": "markdown",
      "metadata": {
        "id": "Y7iHjP8DRJb3",
        "colab_type": "text"
      },
      "source": [
        "## Recursividad vs. Iteración\n",
        "Todo algoritmo iterativo puede escribirse recursivamente. En particular, cualquier ciclo de la forma\n",
        "```python\n",
        "while C:\n",
        "    A\n",
        "```\n",
        "puede implementarse como\n",
        "```python\n",
        "def f():\n",
        "    if C:\n",
        "        A\n",
        "        f()\n",
        "f()\n",
        "```\n",
        "Por cierto, en la llamada recursiva se le debe entregar a la función el contexto en que habría operado en la siguiente iteración del ciclo.\n",
        "\n",
        "Por ejemplo, si queremos imprimir uno por uno los elementos de un arreglo $a$, una forma iterativa de hacerlo sería:"
      ]
    },
    {
      "cell_type": "code",
      "metadata": {
        "id": "J5WopWkARJb3",
        "colab_type": "code",
        "colab": {}
      },
      "source": [
        "def imprimir(a):\n",
        "    k=0\n",
        "    while k<len(a):\n",
        "        print(a[k])\n",
        "        k+=1"
      ],
      "execution_count": 0,
      "outputs": []
    },
    {
      "cell_type": "code",
      "metadata": {
        "id": "PpMWpZFyRJb5",
        "colab_type": "code",
        "outputId": "dd84b778-0536-4f01-e995-cdd3224fa905",
        "colab": {}
      },
      "source": [
        "a=np.random.random(6)\n",
        "imprimir(a)"
      ],
      "execution_count": 0,
      "outputs": [
        {
          "output_type": "stream",
          "text": [
            "0.5972960320846157\n",
            "0.29293810583199964\n",
            "0.029968508236280056\n",
            "0.07803179856523312\n",
            "0.7502784258536918\n",
            "0.6407420916311234\n"
          ],
          "name": "stdout"
        }
      ]
    },
    {
      "cell_type": "markdown",
      "metadata": {
        "id": "QSYo53jLRJb6",
        "colab_type": "text"
      },
      "source": [
        "En forma recursiva, esto queda como:"
      ]
    },
    {
      "cell_type": "code",
      "metadata": {
        "id": "bWKFG7ZURJb7",
        "colab_type": "code",
        "colab": {}
      },
      "source": [
        "def imprimir(a):\n",
        "    imprimir_recursivo(a,0)\n",
        "    \n",
        "def imprimir_recursivo(a,k): # imprimir desde a[k] en adelante\n",
        "    if k<len(a):\n",
        "        print(a[k])\n",
        "        imprimir_recursivo(a,k+1)"
      ],
      "execution_count": 0,
      "outputs": []
    },
    {
      "cell_type": "code",
      "metadata": {
        "id": "ujaAC53VRJb9",
        "colab_type": "code",
        "outputId": "718f9723-c478-4dd4-9730-77609845b6d8",
        "colab": {}
      },
      "source": [
        "a=np.random.random(6)\n",
        "imprimir(a)"
      ],
      "execution_count": 0,
      "outputs": [
        {
          "output_type": "stream",
          "text": [
            "0.925562926520958\n",
            "0.8432645312031081\n",
            "0.9002480315234768\n",
            "0.22197316800315414\n",
            "0.25955862665867935\n",
            "0.6440035647995825\n"
          ],
          "name": "stdout"
        }
      ]
    },
    {
      "cell_type": "markdown",
      "metadata": {
        "id": "uWJHffNzRJb-",
        "colab_type": "text"
      },
      "source": [
        "Este proceso es reversible: cuando una función recursiva lo último que hace es llamarse a sí misma, lo que se llama \"recursividad a la cola\" (\"_tail recursion_\"), eso se puede reemplazar por un `while`:"
      ]
    },
    {
      "cell_type": "code",
      "metadata": {
        "id": "BhmVmBx9RJb-",
        "colab_type": "code",
        "colab": {}
      },
      "source": [
        "def imprimir(a):\n",
        "    imprimir_recursivo(a,0)\n",
        "    \n",
        "def imprimir_recursivo(a,k): # imprimir desde a[k] en adelante, ahora NO recursivo\n",
        "    while k<len(a): # reemplazó a \"if k<len(a):\"\n",
        "        print(a[k])\n",
        "        k+=1 # reemplazó a \"imprimir_recursivo(a,k+1)\""
      ],
      "execution_count": 0,
      "outputs": []
    },
    {
      "cell_type": "code",
      "metadata": {
        "id": "AXhQQH3KRJcA",
        "colab_type": "code",
        "outputId": "c26158fc-2b5c-40c0-b78a-0528de6b5276",
        "colab": {}
      },
      "source": [
        "a=np.random.random(6)\n",
        "imprimir(a)"
      ],
      "execution_count": 0,
      "outputs": [
        {
          "output_type": "stream",
          "text": [
            "0.469815275093036\n",
            "0.2693359071982979\n",
            "0.2753386333031673\n",
            "0.31700692660816665\n",
            "0.3536210618437543\n",
            "0.17862982955407536\n"
          ],
          "name": "stdout"
        }
      ]
    },
    {
      "cell_type": "markdown",
      "metadata": {
        "id": "zL4QUCLqRJcJ",
        "colab_type": "text"
      },
      "source": [
        "Pero ahora la función `imprimir_recursivo` es llamada desde un único lugar, con k=0, y por lo tento, en ese lugar podemos sustituir la llamada por el código de la función, con lo que el resultado es:"
      ]
    },
    {
      "cell_type": "code",
      "metadata": {
        "id": "6lCHerlzRJcK",
        "colab_type": "code",
        "colab": {}
      },
      "source": [
        "def imprimir(a):\n",
        "    # Esto reemplaza a \"imprimir_recursivo(a,0)\"\n",
        "    k=0\n",
        "    while k<len(a): # reemplazó a \"if k<len(a):\"\n",
        "        print(a[k])\n",
        "        k+=1 # reemplazó a \"imprimir_recursivo(a,k+1)\"\""
      ],
      "execution_count": 0,
      "outputs": []
    },
    {
      "cell_type": "code",
      "metadata": {
        "id": "CAWydIQbRJcL",
        "colab_type": "code",
        "outputId": "e71ddfb8-dd89-47d3-f6b3-d3500ab74865",
        "colab": {}
      },
      "source": [
        "a=np.random.random(6)\n",
        "imprimir(a)"
      ],
      "execution_count": 0,
      "outputs": [
        {
          "output_type": "stream",
          "text": [
            "0.3819525671043009\n",
            "0.7485573680429501\n",
            "0.32630872176214865\n",
            "0.4236453940315019\n",
            "0.34755213830158616\n",
            "0.19782378398102607\n"
          ],
          "name": "stdout"
        }
      ]
    },
    {
      "cell_type": "markdown",
      "metadata": {
        "id": "7_wWwSucRJcM",
        "colab_type": "text"
      },
      "source": [
        "¡Con lo cual hemos vuelto al punto de partida!\n",
        "\n",
        "Sin embargo, esto solo funciona para eliminar la \"recursividad a la cola\". Si hay llamadas recursivas que **no** son lo último que ejecuta la función, no pueden eliminarse con esta receta, y como veremos más adelante, requerirá el uso de una estructura llamada una \"pila\" (_stack_).\n",
        "\n",
        "El siguiente ejemplo ilustra un caso en que esto ocurre."
      ]
    },
    {
      "cell_type": "markdown",
      "metadata": {
        "id": "k0lInym7RJcM",
        "colab_type": "text"
      },
      "source": [
        "## Ejemplo: Torres de Hanoi\n",
        "\n",
        "![Torres de Hanoi](https://github.com/ppoblete/AED/blob/master/hanoi.gif?raw=1)\n",
        "\n",
        "Este puzzle consiste en trasladar $n$ discos desde la estaca 1 a la estaca 3, respetando siempre las dos reglas siguientes:\n",
        "* Solo se puede mover de a un disco a la vez, y\n",
        "* Nunca puede haber un disco más grande sobre uno más chico\n",
        "Esto se puede resolver recursivamente de la siguiente manera:\n",
        "\n",
        "Para mover $n$ discos desde $a$ hasta $b$ (usando la estaba $c$ como auxiliar):\n",
        "* Primero movemos (recursivamente) $n-1$ discos desde la estaca $a$ a la estaca $b$\n",
        "* Una vez despejado el camino, movemos 1 disco desde $a$ hasta $c$\n",
        "* Finalmente, movemos de nuevo (recursivamente) los $n-1$ discos, ahora desde $b$ hasta $c$ (usando $a$ como auxiliar)\n",
        "\n",
        "El caso base es $n=0$, en cuyo caso no se hace nada."
      ]
    },
    {
      "cell_type": "code",
      "metadata": {
        "id": "wA23lJOrRJcN",
        "colab_type": "code",
        "colab": {}
      },
      "source": [
        "def Hanoi(n, a, b, c): # Mover n discos desde \"a\" a \"c\", usando \"b\" como auxiliar\n",
        "    if n>0:\n",
        "        Hanoi(n-1, a, c, b)\n",
        "        print(a, \"-->\", c) # Mueve 1 disco desde \"a\" hasta \"c\"\n",
        "        Hanoi(n-1, b, a, c)"
      ],
      "execution_count": 0,
      "outputs": []
    },
    {
      "cell_type": "code",
      "metadata": {
        "id": "554cROj9RJcO",
        "colab_type": "code",
        "outputId": "026466a0-e7e1-4eb4-edd9-2a7b56cbb9a9",
        "colab": {}
      },
      "source": [
        "Hanoi(3, 1, 2, 3)"
      ],
      "execution_count": 0,
      "outputs": [
        {
          "output_type": "stream",
          "text": [
            "1 --> 3\n",
            "1 --> 2\n",
            "3 --> 2\n",
            "1 --> 3\n",
            "2 --> 1\n",
            "2 --> 3\n",
            "1 --> 3\n"
          ],
          "name": "stdout"
        }
      ]
    },
    {
      "cell_type": "markdown",
      "metadata": {
        "id": "z42XH77wRJcQ",
        "colab_type": "text"
      },
      "source": [
        "Este algoritmo es muy claro y bastante intuitivo. Si aplicamos la regla de eliminación de \"recursividad a la cola\", lo que resulta es un algoritmo equivalente, pero mucho menos trivial de entender:"
      ]
    },
    {
      "cell_type": "code",
      "metadata": {
        "id": "lT9lIHbmRJcR",
        "colab_type": "code",
        "colab": {}
      },
      "source": [
        "def Hanoi(n, a, b, c): # Mover n discos desde \"a\" a \"c\", usando \"b\" como auxiliar\n",
        "    while n>0: # reemplaza a \"if n>0:\"\n",
        "        Hanoi(n-1, a, c, b)\n",
        "        print(a, \"-->\", c) # Mueve 1 disco desde \"a\" hasta \"c\"\n",
        "        n-=1\n",
        "        (a,b)=(b,a) # reemplaza a \"Hanoi(n-1, b, a, c)\""
      ],
      "execution_count": 0,
      "outputs": []
    },
    {
      "cell_type": "code",
      "metadata": {
        "id": "YHxkFypWRJcS",
        "colab_type": "code",
        "outputId": "6a407143-6b39-4d1d-f486-fb31c2434860",
        "colab": {}
      },
      "source": [
        "Hanoi(3, 1, 2, 3)"
      ],
      "execution_count": 0,
      "outputs": [
        {
          "output_type": "stream",
          "text": [
            "1 --> 3\n",
            "1 --> 2\n",
            "3 --> 2\n",
            "1 --> 3\n",
            "2 --> 1\n",
            "2 --> 3\n",
            "1 --> 3\n"
          ],
          "name": "stdout"
        }
      ]
    },
    {
      "cell_type": "markdown",
      "metadata": {
        "id": "-aXpQad7RJcV",
        "colab_type": "text"
      },
      "source": [
        "_**Ejercicio:**_ Dar una explicación intuitiva de por qué funciona este algoritmo."
      ]
    },
    {
      "cell_type": "markdown",
      "metadata": {
        "id": "oPg6smdRRJcW",
        "colab_type": "text"
      },
      "source": [
        "## Diagramas de Estados\n",
        "\n",
        "Consideremos una instrucción iterativa con un invariante \"I\", que se inicializa con instrucciones \"B\", con condición de continuación \"C\", con un cuerpo del ciclo consistente de instrucciones \"A\" y con el objetivo de lograr que se cumpla una afirmación lógica \"F\". Esto tendría la estructura siguiente:\n",
        "```python\n",
        "B\n",
        "while C: # invariante I\n",
        "    A\n",
        "    \n",
        "# al terminar se debería cumplir F\n",
        "``` \n",
        "\n",
        "Anotando con un poco más de precisión, podemos identificar lo que se cumple en cada punto:\n",
        "```python\n",
        "B\n",
        "# aquí se cumple el invariante \"I\" por primera vez\n",
        "while C:\n",
        "    # aquí se cumple \"I and C\"\n",
        "    A\n",
        "    # acá se debe cumplir nuevamente \"I\"\n",
        "    \n",
        "# al terminar el ciclo se cumple \"I and not C\"\n",
        "# y eso debe implicar que se cumple F\n",
        "```\n",
        "\n",
        "Esto se puede visualizar de manera más sencilla en un **diagrama de estados** como el siguiente:\n",
        "\n",
        "![Diagrama de Estados 1](https://github.com/ppoblete/AED/blob/master/state-diagram-1.png?raw=1)\n",
        "\n",
        "En este diagrama:\n",
        "* Los estados (círculos) representan el estado del proceso en ese momento, descrito por la afirmación lógica correspondiente. En un ciclo, esa afirmación lógica es lo que hemos llamado invariante.\n",
        "* Un doble círculo representa a un estado final.\n",
        "* Las flechas pueden llevar como rótulo un \"if\" con una condición, que debe cumplirse para que se siga esa flecha, y también pueden estar rotuladas con una instrucción (o un bloque de instrucciones), que se ejecuta al hacer esa transición."
      ]
    },
    {
      "cell_type": "markdown",
      "metadata": {
        "id": "uhXfRekkRJcW",
        "colab_type": "text"
      },
      "source": [
        "Una ventaja de modelar un algoritmo en base a un diagrama de estados es que no estamos restringidos solo a los diagramas simples que corresponden a ciclos `while`, sino que podemos construir diagramas mucho más complejos, con múltiples estados y transiciones.\n",
        "\n",
        "Piensen por ejemplo en cómo modelar el funcionamiento de un **cajero automático**:\n",
        "\n",
        "* El cajero está originalmente en un estado inicial, que es además el estado al cual regrasa cada vez que concluye la atención de un cliente.\n",
        "* Cuando llega un cliente e inserta su tarjeta, el cajero debe verificar que la tarjeta es legible y si no es, debe devolverla con un mensaje de error y volver al estado inicial.\n",
        "* Si la tarjeta es legible, debe pedir que ingrese el PIN y pasar a otro estado en que espera que el cliente ingrese dicha clave.\n",
        "* Si la clave es incorrecta, debe pedir que la ingrese de nuevo y seguir en ese estado. Pero eso tiene un límite, porque si el usuario comete muchos errores, el cajero debe dar un mensaje de error, retener la tarjeta y volver al estado inicial.\n",
        "* Si la clave es correcta, debe mostrar un menú de posibles operaciones y esperar que el cliente seleccione una.\n",
        "* Si el cliente selecciona \"Retirar dinero\", debe pasar a otro estado en que le pregunta el monto que quiere sacar.\n",
        "* Etc., etc., etc.,\n",
        "\n",
        "En realidad, el diagrama de estados de un cajero automático es enorme, porque en cada estado hay múltiples opciones que conducen a realizar acciones y trasladarse a otros estados. Además, hay \"timeouts\" que interrumpen el proceso si una operación se demora demasiado. El diagrama de estados es la herramienta que permite modelar este tipo de procesos complejos.\n",
        "\n"
      ]
    },
    {
      "cell_type": "markdown",
      "metadata": {
        "id": "N5Uxsoy9RJcX",
        "colab_type": "text"
      },
      "source": [
        "## Ejemplo: Contar palabras\n",
        "\n",
        "Supongamos que tenemos un string que contiene una frase y queremos contar cuántas palabras contiene. Para simplificar, supondremos que una palabra es cualquier secuencia de caracteres distintos de un espacio en blanco. Por ejemplo, el string\n",
        "```python\n",
        "\"    Algoritmos y    Estructuras  de   Datos   \"\n",
        "```\n",
        "contiene 5 palabras.\n",
        "\n",
        "Para resolver este problema, iremos examinando uno a uno los caracteres del string, y para cada uno deberemos decidir si ese caracter es el comienzo de una nueva palabra o no. Esto depende de si estábamos FUERA de una palabra (en cuyo caso sí es el inicio y hay que incrementar el contador de palabars) o si estábamos DENTRO de una palabra (en cuyo caso no se incrementa).\n",
        "\n",
        "Esto sugiere tener un diagrama de estados con dos estados (FUERA y DENTRO), más un tercer estado final FIN, al que se llega cuando se agota el string.\n",
        "\n",
        "El siguiente diagrama modela este proceso, donde el caracter que se está examinando en cada momento es $s[k]$. Para simplificar, suponemos que las transiciones hacia FIN tienen prioridad. Además, como en cada transición se examina un nuevo caracter, dejaremos implícita la inicialización $k=0$ y el incremento $k+=1$ que hay después de cada transición.\n",
        "\n",
        "![Diagrama de Estados 2](https://github.com/ppoblete/AED/blob/master/state-diagram-2.png?raw=1)\n",
        "\n",
        "Una vez modelado el proceso mediante un diagrama de estados, debemos escribirlo en forma de un programa. Veremos a continuación que **hay más de una manera de hacerlo**:"
      ]
    },
    {
      "cell_type": "code",
      "metadata": {
        "id": "JnaVn5KwRJcX",
        "colab_type": "code",
        "colab": {}
      },
      "source": [
        "# Contar palabras, versión 1 con variables de estado\n",
        "def contar_palabras(s):\n",
        "    np=0\n",
        "    estado=\"FUERA\"\n",
        "    for k in range(0,len(s)):\n",
        "        if estado==\"FUERA\":\n",
        "            if s[k]!=' ':\n",
        "                np+=1\n",
        "                estado=\"DENTRO\"\n",
        "        else: # estado==\"DENTRO\"\n",
        "            if s[k]==' ':\n",
        "                estado=\"FUERA\"\n",
        "    return np"
      ],
      "execution_count": 0,
      "outputs": []
    },
    {
      "cell_type": "code",
      "metadata": {
        "id": "zsjYNSdgRJcd",
        "colab_type": "code",
        "outputId": "e7e9ea1f-25fe-401d-84e2-0c2495eebbf6",
        "colab": {}
      },
      "source": [
        "s=input(\"Escriba frase: \")\n",
        "print(\"Hay\", contar_palabras(s), \"palabras\")"
      ],
      "execution_count": 0,
      "outputs": [
        {
          "output_type": "stream",
          "text": [
            "Escriba frase: Buenos    días\n",
            "Hay 2 palabras\n"
          ],
          "name": "stdout"
        }
      ]
    },
    {
      "cell_type": "code",
      "metadata": {
        "id": "vX4C7DV8RJcf",
        "colab_type": "code",
        "colab": {}
      },
      "source": [
        "# Contar palabras, versión 2 con variables de estado\n",
        "def contar_palabras(s):\n",
        "    np=0\n",
        "    estado=\"FUERA\"\n",
        "    for k in range(0,len(s)):\n",
        "        if s[k]==' ':\n",
        "            estado=\"FUERA\"\n",
        "        else: # s[k]!=' '\n",
        "            if estado==\"FUERA\":\n",
        "                np+=1\n",
        "            estado=\"DENTRO\"\n",
        "    return np"
      ],
      "execution_count": 0,
      "outputs": []
    },
    {
      "cell_type": "code",
      "metadata": {
        "id": "YqEvww2-RJch",
        "colab_type": "code",
        "outputId": "6a07328d-d5cd-47f5-c987-10e0ef6ac934",
        "colab": {}
      },
      "source": [
        "s=input(\"Escriba frase: \")\n",
        "print(\"Hay\", contar_palabras(s), \"palabras\")"
      ],
      "execution_count": 0,
      "outputs": [
        {
          "output_type": "stream",
          "text": [
            "Escriba frase: ¿Cómo está usted?\n",
            "Hay 3 palabras\n"
          ],
          "name": "stdout"
        }
      ]
    },
    {
      "cell_type": "code",
      "metadata": {
        "id": "PvxdkCDaRJcm",
        "colab_type": "code",
        "colab": {}
      },
      "source": [
        "# Contar palabras, versión sin variables de estado\n",
        "def contar_palabras(s):\n",
        "    np=0\n",
        "    k=0\n",
        "    while k<len(s):\n",
        "        # Estamos en el estado FUERA\n",
        "        if s[k]!=' ':\n",
        "            np+=1\n",
        "            k+=1\n",
        "            # Ahora estamos en el estado DENTRO\n",
        "            while k<len(s) and s[k]!=' ':\n",
        "                k+=1\n",
        "            if k==len(s):\n",
        "                break\n",
        "            # Por descarte, s[k]==' '\n",
        "        k+=1\n",
        "    return np"
      ],
      "execution_count": 0,
      "outputs": []
    },
    {
      "cell_type": "code",
      "metadata": {
        "id": "0e7pJLdfRJco",
        "colab_type": "code",
        "outputId": "17e792a8-d9d7-45d4-e6e9-d504f992cf07",
        "colab": {}
      },
      "source": [
        "s=input(\"Escriba frase: \")\n",
        "print(\"Hay\", contar_palabras(s), \"palabras\")"
      ],
      "execution_count": 0,
      "outputs": [
        {
          "output_type": "stream",
          "text": [
            "Escriba frase: Hasta la vista, baby\n",
            "Hay 4 palabras\n"
          ],
          "name": "stdout"
        }
      ]
    }
  ]
}